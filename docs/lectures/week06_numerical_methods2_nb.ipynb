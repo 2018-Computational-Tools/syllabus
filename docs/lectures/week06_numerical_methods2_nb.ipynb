{
 "cells": [
  {
   "cell_type": "markdown",
   "metadata": {},
   "source": [
    "# 1D diffusion model using Numpy\n",
    "\n",
    "This notebook demonstrates some of Numpy's capabilities by showing how you can use it to build a numerical model of heat diffusion in permafrost.\n",
    "\n",
    "(Greg Tucker, for Computational Tools class, Oct 2018)"
   ]
  },
  {
   "cell_type": "markdown",
   "metadata": {},
   "source": [
    "## Problem setup\n",
    "\n",
    "### Conductive heat flow in soil\n",
    "\n",
    "We would like to calculate the temperature in the ground over time, in response to daily and annual cycles of surface temperature. We will assume that all heat flow occurs by conduction (and not, for example, by infiltrating water), that the thermal properties of the soil are constant, and that there are no internal heat sources or sinks (such as phase changes or radioactive heat production). We will also assume that the temperature is uniform in the horizontal, such that the problem is 1D (heat flow occurs only vertically).\n",
    "\n",
    "### Governing equation\n",
    "\n",
    "Under these conditions, the governing equation is:\n",
    "\n",
    "$\\frac{\\partial T}{\\partial t} = \\kappa \\frac{\\partial^2 T}{\\partial z^2}$\n",
    "\n",
    "where $T$ is temperature at depth $z$, $t$ is time, and $\\kappa$ is thermal diffusivity (in units of m$^2$/s).\n",
    "\n",
    "### Finite-difference approximation\n",
    "\n",
    "A finite-difference approximation of the above governing equation is:\n",
    "\n",
    "$\\frac{T_i^{k+1} - T_i^k}{\\Delta t} = \\frac{\\kappa}{\\Delta z^2} \\left( T_{i+1}^k - 2 T_i^k + T_{i-1}^k \\right)$\n",
    "\n",
    "Here, we have divided the domain into a set of horizontal soil layers, each of which has thickness $\\Delta z$. We'll refer to the center point in each layer as a *node*. Nodes will be numbered from top to bottom, starting with node 0, which represents the surface temperature. Time will be divided into a series of *time steps* of duration $\\Delta t$. The superscript indicates the time step, and the subscript indicates the node number. Therefore, $T_i^k$ means temperature at node $i$ at time step $k$.\n",
    "\n",
    "This describes an *explicit* finite-difference method, because the temperature at the next time step is explicitly determined by the temperature at the same node and its two neighbors at the current time step. To see this, rearrange the above:\n",
    "\n",
    "$T_i^{k+1} = T_i^k + \\frac{\\kappa \\Delta t}{\\Delta z^2} \\left( T_{i+1}^k - 2 T_i^k + T_{i-1}^k \\right)$\n",
    "\n",
    "So, our job is set an initial temperature value at each node, and then iterate through a series of time steps, updating the temperature values along the way. First, though, let's think about *boundary conditions.*\n",
    "\n",
    "### Boundary conditions\n",
    "\n",
    "The temperature at the topmost node (node 0) will represent surface temperature. We will prescribe this value (ultimately, we want it to evolve over the course of a day and/or year). So we will use a fixed-value boundary condition at the top. For the bottom, it makes sense to assume that there is no flow of heat in or out. This is a fixed gradient boundary condition. A simple way to ensure this is to make the temperature of the bottom node (which is node $N-1$ if there are $N$ nodes) is always equal to that of its immediate neighbor ($N-2$).\n",
    "\n",
    "## Parameters and data structures\n",
    "\n",
    "We'll use a Numpy array for our temperature values. We also need variables for $\\Delta t$ (call it ``dt``), $\\Delta z$ (``dz``), $N$, and $\\kappa$ (``kappa``). First, some imports..."
   ]
  },
  {
   "cell_type": "code",
   "execution_count": 9,
   "metadata": {},
   "outputs": [],
   "source": [
    "import numpy as np\n",
    "import matplotlib.pyplot as plt\n",
    "%matplotlib inline"
   ]
  },
  {
   "cell_type": "markdown",
   "metadata": {},
   "source": [
    "Now, define parameters:"
   ]
  },
  {
   "cell_type": "code",
   "execution_count": 10,
   "metadata": {},
   "outputs": [],
   "source": [
    "N = 101  # number of nodes\n",
    "dz = 0.05  # node spacing (m)\n",
    "kappa = 1.0e-6  # thermal diffusivity (m2/s)\n",
    "run_duration = 10   # run duration (days)\n",
    "initial_temperature = 10.0  # starting temperature (deg C)\n",
    "mean_temperature = 10.0    # mean surface temperature (deg C)\n",
    "diurnal_temp_range = 5.0   # diurnal temperature half-range (deg C)\n",
    "period = 24.0 * 3600.0     # period of surface temp variation (s)\n",
    "plot_interval = 0.5 * 3600.0  # plot interval (s)\n",
    "plot_name = 'temp_profile' # base name for plot files"
   ]
  },
  {
   "cell_type": "markdown",
   "metadata": {},
   "source": [
    "Set up an array for temperature:"
   ]
  },
  {
   "cell_type": "code",
   "execution_count": 11,
   "metadata": {},
   "outputs": [],
   "source": [
    "temp = np.zeros(N) + initial_temperature"
   ]
  },
  {
   "cell_type": "markdown",
   "metadata": {},
   "source": [
    "Define time step size using CFL condition, and calculate the number of time steps (including conversion of run duration from days to seconds):"
   ]
  },
  {
   "cell_type": "code",
   "execution_count": 12,
   "metadata": {},
   "outputs": [],
   "source": [
    "dt = 0.2 * dz * dz / kappa\n",
    "num_time_steps = int(24 * 3600.0 * run_duration / dt)"
   ]
  },
  {
   "cell_type": "markdown",
   "metadata": {},
   "source": [
    "Make an array called ``inner`` with all the node indices *except* top and bottom."
   ]
  },
  {
   "cell_type": "code",
   "execution_count": 13,
   "metadata": {},
   "outputs": [],
   "source": [
    "inner = np.arange(1, N-2)  # indices of inner nodes"
   ]
  },
  {
   "cell_type": "markdown",
   "metadata": {},
   "source": [
    "Define handy lumped variable:"
   ]
  },
  {
   "cell_type": "code",
   "execution_count": 14,
   "metadata": {},
   "outputs": [],
   "source": [
    "alpha = kappa * dt / (dz * dz)"
   ]
  },
  {
   "cell_type": "code",
   "execution_count": 15,
   "metadata": {},
   "outputs": [],
   "source": [
    "def plot_temp_profile(temp, depth, filename=None):\n",
    "    \"\"\"Plot the temperature profile.\"\"\"\n",
    "    plt.clf()\n",
    "    plt.plot(temp, z)\n",
    "    plt.gca().invert_yaxis()\n",
    "    plt.xlabel('TEMPERATURE (deg C)')\n",
    "    plt.ylabel('DEPTH (m)')\n",
    "    plt.xlim([mean_temperature - diurnal_temp_range,\n",
    "              mean_temperature + diurnal_temp_range])\n",
    "    \n",
    "    if filename is not None:\n",
    "        plt.savefig(filename)"
   ]
  },
  {
   "cell_type": "code",
   "execution_count": 16,
   "metadata": {},
   "outputs": [
    {
     "data": {
      "image/png": "[encoded data removed]",
      "text/plain": [
       "<Figure size 432x288 with 1 Axes>"
      ]
     },
     "metadata": {},
     "output_type": "display_data"
    }
   ],
   "source": [
    "next_plot = plot_interval\n",
    "z = np.arange(N) * dz\n",
    "plt.clf()\n",
    "plot_temp_profile(temp, z, plot_name + '0000.png')"
   ]
  },
  {
   "cell_type": "markdown",
   "metadata": {},
   "source": [
    "## Main loop"
   ]
  },
  {
   "cell_type": "code",
   "execution_count": 57,
   "metadata": {},
   "outputs": [],
   "source": [
    "for i in range(num_time_steps):\n",
    "    \n",
    "    # Update the surface temperature\n",
    "    temp[0] = (mean_temperature\n",
    "               + diurnal_temp_range * np.sin(2.0 * np.pi * i * dt / period))\n",
    "    \n",
    "    # Set lowest node temp equal to that of its neighbor\n",
    "    temp[-1] = temp[-2]\n",
    "    \n",
    "    # Update the inner-node temperature field\n",
    "    temp[inner] += (alpha\n",
    "                    * (temp[inner+1] - 2 * temp[inner] + temp[inner-1]))\n",
    "    \n",
    "    # Plot\n",
    "    if i * dt >= next_plot:\n",
    "        # plot_temp_profile(temp, z, plot_name + str(i).zfill(4) + '.png')\n",
    "        next_plot += plot_interval"
   ]
  },
  {
   "cell_type": "code",
   "execution_count": 46,
   "metadata": {},
   "outputs": [
    {
     "data": {
      "text/plain": [
       "86400.0"
      ]
     },
     "execution_count": 46,
     "metadata": {},
     "output_type": "execute_result"
    }
   ],
   "source": [
    "period"
   ]
  },
  {
   "cell_type": "code",
   "execution_count": 47,
   "metadata": {},
   "outputs": [
    {
     "data": {
      "text/plain": [
       "1727"
      ]
     },
     "execution_count": 47,
     "metadata": {},
     "output_type": "execute_result"
    }
   ],
   "source": [
    "num_time_steps"
   ]
  }
 ],
 "metadata": {
  "kernelspec": {
   "display_name": "Python 3",
   "language": "python",
   "name": "python3"
  },
  "language_info": {
   "codemirror_mode": {
    "name": "ipython",
    "version": 3
   },
   "file_extension": ".py",
   "mimetype": "text/x-python",
   "name": "python",
   "nbconvert_exporter": "python",
   "pygments_lexer": "ipython3",
   "version": "3.6.5"
  }
 },
 "nbformat": 4,
 "nbformat_minor": 2
}
